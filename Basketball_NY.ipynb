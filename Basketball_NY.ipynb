{
 "cells": [
  {
   "cell_type": "code",
   "execution_count": 392,
   "metadata": {
    "collapsed": false
   },
   "outputs": [],
   "source": [
    "import pandas as pd\n",
    "import numpy as np\n",
    "import xml.etree.ElementTree as ET\n",
    "\n",
    "MAPBOX_ACCESS_TOKEN=\"#######################\"\n",
    "\n",
    "from mapbox import Geocoder"
   ]
  },
  {
   "cell_type": "code",
   "execution_count": 393,
   "metadata": {
    "collapsed": true
   },
   "outputs": [],
   "source": [
    "data = ET.parse('DPR_Basketball.xml')\n",
    "root = data.getroot()"
   ]
  },
  {
   "cell_type": "code",
   "execution_count": 394,
   "metadata": {
    "collapsed": false
   },
   "outputs": [],
   "source": [
    "Basketball_Dict = {}\n",
    "Basketball_Dict['Name'] = [name.find('{http://www.nycgovparks.org/bigapps/desc/DPR_Basketball_001.txt}Name').text for name in root.findall('{http://www.nycgovparks.org/bigapps/desc/DPR_Basketball_001.txt}facility')]\n",
    "Basketball_Dict['Location'] = [location.find('{http://www.nycgovparks.org/bigapps/desc/DPR_Basketball_001.txt}Location').text for location in root.findall('{http://www.nycgovparks.org/bigapps/desc/DPR_Basketball_001.txt}facility')]\n",
    "Basketball_Dict['Latitude'] = [latitude.find('{http://www.nycgovparks.org/bigapps/desc/DPR_Basketball_001.txt}lat').text for latitude in root.findall('{http://www.nycgovparks.org/bigapps/desc/DPR_Basketball_001.txt}facility')]\n",
    "Basketball_Dict['Longitude'] = [longitude.find('{http://www.nycgovparks.org/bigapps/desc/DPR_Basketball_001.txt}lon').text for longitude in root.findall('{http://www.nycgovparks.org/bigapps/desc/DPR_Basketball_001.txt}facility')]\n",
    "\n",
    "Basketball_DF = pd.DataFrame(Basketball_Dict)"
   ]
  },
  {
   "cell_type": "code",
   "execution_count": 395,
   "metadata": {
    "collapsed": false
   },
   "outputs": [],
   "source": [
    "Basketball_DF.to_csv(\"Basketball_Courts.csv\")"
   ]
  },
  {
   "cell_type": "code",
   "execution_count": 396,
   "metadata": {
    "collapsed": false
   },
   "outputs": [
    {
     "data": {
      "text/plain": [
       "'Soundview'"
      ]
     },
     "execution_count": 396,
     "metadata": {},
     "output_type": "execute_result"
    }
   ],
   "source": [
    "MAPBOX_ACCESS_TOKEN=\"pk.eyJ1IjoiamltbXlmZXRlcm1hbiIsImEiOiJjamV6d2pkb2EwY3I5MnFvMDc4OGpndzZjIn0.Daxs0X27B20I2EC0Sw60vg\"\n",
    "\n",
    "from mapbox import Geocoder\n",
    "\n",
    "geocoder = Geocoder(access_token=MAPBOX_ACCESS_TOKEN)\n",
    "response = geocoder.reverse(lon=-73.8775, lat=40.8342)\n",
    "features2 = response.geojson()['features']\n",
    "features2[1]['text']"
   ]
  },
  {
   "cell_type": "code",
   "execution_count": 397,
   "metadata": {
    "collapsed": false
   },
   "outputs": [],
   "source": [
    "Basketball_Location = Basketball_DF.iloc[np.where(pd.notnull(Basketball_DF[\"Longitude\" or \"Latitude\"]))]"
   ]
  },
  {
   "cell_type": "code",
   "execution_count": 398,
   "metadata": {
    "collapsed": true
   },
   "outputs": [],
   "source": [
    "'''index can get messed when ignoring'''\n",
    "Basketball_Location = Basketball_Location.reset_index()"
   ]
  },
  {
   "cell_type": "code",
   "execution_count": 399,
   "metadata": {
    "collapsed": false
   },
   "outputs": [],
   "source": [
    "\"\"\"Good Code\"\"\"\n",
    "Location_Dict = {}\n",
    "Location_Dict[\"Neighborhood\"] = []\n",
    "\n",
    "\n",
    "for i in range(0,len(Basketball_Location)):\n",
    "    Location_Dict[\"Neighborhood\"].append(geocoder.reverse(lon=Basketball_Location['Longitude'][i], lat=Basketball_Location['Latitude'][i]).geojson()['features'][1]['text'])"
   ]
  },
  {
   "cell_type": "code",
   "execution_count": 400,
   "metadata": {
    "collapsed": false
   },
   "outputs": [
    {
     "data": {
      "text/html": [
       "<div>\n",
       "<table border=\"1\" class=\"dataframe\">\n",
       "  <thead>\n",
       "    <tr style=\"text-align: right;\">\n",
       "      <th></th>\n",
       "      <th>Latitude</th>\n",
       "      <th>Location</th>\n",
       "      <th>Longitude</th>\n",
       "      <th>Name</th>\n",
       "      <th>Neighborhood</th>\n",
       "    </tr>\n",
       "  </thead>\n",
       "  <tbody>\n",
       "    <tr>\n",
       "      <th>0</th>\n",
       "      <td>40.8342</td>\n",
       "      <td>E 174 St. &amp; Bronx River Ave.</td>\n",
       "      <td>-73.8775</td>\n",
       "      <td>174th Street Playground</td>\n",
       "      <td>Soundview</td>\n",
       "    </tr>\n",
       "    <tr>\n",
       "      <th>1</th>\n",
       "      <td>40.8149</td>\n",
       "      <td>Kelly St. &amp; Ave. St. John</td>\n",
       "      <td>-73.9021</td>\n",
       "      <td>52 Playground</td>\n",
       "      <td>Longwood</td>\n",
       "    </tr>\n",
       "    <tr>\n",
       "      <th>2</th>\n",
       "      <td>40.8172</td>\n",
       "      <td>Tinton Ave. &amp; E 156 St.</td>\n",
       "      <td>-73.9044</td>\n",
       "      <td>Abigail Adams Playground</td>\n",
       "      <td>Melrose</td>\n",
       "    </tr>\n",
       "    <tr>\n",
       "      <th>3</th>\n",
       "      <td>40.8804</td>\n",
       "      <td>Barnes Ave. &amp; E 215 St.</td>\n",
       "      <td>-73.8619</td>\n",
       "      <td>Agnes Haywood Playground</td>\n",
       "      <td>Williamsbridge</td>\n",
       "    </tr>\n",
       "    <tr>\n",
       "      <th>4</th>\n",
       "      <td>40.8659</td>\n",
       "      <td>Bouck &amp; Throop Aves.</td>\n",
       "      <td>-73.8503</td>\n",
       "      <td>Allerton Playground</td>\n",
       "      <td>Pelham Gardens</td>\n",
       "    </tr>\n",
       "  </tbody>\n",
       "</table>\n",
       "</div>"
      ],
      "text/plain": [
       "  Latitude                      Location Longitude                      Name  \\\n",
       "0  40.8342  E 174 St. & Bronx River Ave.  -73.8775   174th Street Playground   \n",
       "1  40.8149     Kelly St. & Ave. St. John  -73.9021             52 Playground   \n",
       "2  40.8172       Tinton Ave. & E 156 St.  -73.9044  Abigail Adams Playground   \n",
       "3  40.8804       Barnes Ave. & E 215 St.  -73.8619  Agnes Haywood Playground   \n",
       "4  40.8659          Bouck & Throop Aves.  -73.8503       Allerton Playground   \n",
       "\n",
       "     Neighborhood  \n",
       "0       Soundview  \n",
       "1        Longwood  \n",
       "2         Melrose  \n",
       "3  Williamsbridge  \n",
       "4  Pelham Gardens  "
      ]
     },
     "execution_count": 400,
     "metadata": {},
     "output_type": "execute_result"
    }
   ],
   "source": [
    "Basketball_DF2 = pd.concat([Basketball_DF, pd.DataFrame(Location_Dict)], axis=1)\n",
    "Basketball_DF2.head()"
   ]
  },
  {
   "cell_type": "code",
   "execution_count": null,
   "metadata": {
    "collapsed": true
   },
   "outputs": [],
   "source": []
  }
 ],
 "metadata": {
  "kernelspec": {
   "display_name": "Python 3",
   "language": "python",
   "name": "python3"
  },
  "language_info": {
   "codemirror_mode": {
    "name": "ipython",
    "version": 3
   },
   "file_extension": ".py",
   "mimetype": "text/x-python",
   "name": "python",
   "nbconvert_exporter": "python",
   "pygments_lexer": "ipython3",
   "version": "3.5.1"
  }
 },
 "nbformat": 4,
 "nbformat_minor": 0
}
